{
 "cells": [
  {
   "cell_type": "code",
   "execution_count": 6,
   "id": "2032e121-20fa-4819-836d-7149dead55b8",
   "metadata": {},
   "outputs": [
    {
     "name": "stdin",
     "output_type": "stream",
     "text": [
      "Enter the data for the QR code:  https://www.linkedin.com/in/sidhaarth-s-27737524b\n"
     ]
    },
    {
     "name": "stdout",
     "output_type": "stream",
     "text": [
      "Customized QR code saved as customized_qrcode.png\n"
     ]
    }
   ],
   "source": [
    "import qrcode\n",
    "from PIL import Image\n",
    "data = input(\"Enter the data for the QR code: \")\n",
    "qr = qrcode.QRCode(\n",
    "    version=1,\n",
    "    error_correction=qrcode.constants.ERROR_CORRECT_L,\n",
    "    box_size=10,\n",
    "    border=2,\n",
    ")\n",
    "qr.add_data(data)\n",
    "qr.make(fit=True)\n",
    "qr_img = qr.make_image(fill_color=\"black\", back_color=\"white\")\n",
    "logo_path = \"Pics1.jpg\"  \n",
    "logo = Image.open(logo_path)\n",
    "logo_size = min(qr_img.size[0] // 6, qr_img.size[1] // 6)\n",
    "logo = logo.resize((logo_size, logo_size), Image.LANCZOS)\n",
    "qr_img_with_logo = qr_img.copy()\n",
    "position = ((qr_img.size[0] - logo.size[0]) // 2, (qr_img.size[1] - logo.size[1]) // 2)\n",
    "qr_img_with_logo.paste(logo, position)\n",
    "border_width = 10\n",
    "bordered_qr_img = Image.new(\n",
    "    \"RGBA\",\n",
    "    (qr_img_with_logo.width + 2 * border_width, qr_img_with_logo.height + 2 * border_width),\n",
    "    (0, 255, 255, 255)\n",
    ")\n",
    "bordered_qr_img.paste(qr_img_with_logo, (border_width, border_width))\n",
    "bordered_qr_img.save(\"customized_qrcode.png\")\n",
    "print(\"Customized QR code saved as customized_qrcode.png\")"
   ]
  },
  {
   "cell_type": "code",
   "execution_count": 7,
   "id": "860378dd-a199-476a-b491-ab47251518d2",
   "metadata": {},
   "outputs": [
    {
     "data": {
      "image/png": "[encoded data removed]",
      "text/plain": [
       "<PIL.Image.Image image mode=RGBA size=350x350>"
      ]
     },
     "metadata": {},
     "output_type": "display_data"
    }
   ],
   "source": [
    "display(bordered_qr_img)"
   ]
  }
 ],
 "metadata": {
  "kernelspec": {
   "display_name": "Python 3 (ipykernel)",
   "language": "python",
   "name": "python3"
  },
  "language_info": {
   "codemirror_mode": {
    "name": "ipython",
    "version": 3
   },
   "file_extension": ".py",
   "mimetype": "text/x-python",
   "name": "python",
   "nbconvert_exporter": "python",
   "pygments_lexer": "ipython3",
   "version": "3.11.4"
  }
 },
 "nbformat": 4,
 "nbformat_minor": 5
}
